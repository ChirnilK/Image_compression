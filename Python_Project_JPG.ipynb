{
 "cells": [
  {
   "cell_type": "markdown",
   "metadata": {},
   "source": [
    "# Grayscale Image Compression"
   ]
  },
  {
   "cell_type": "code",
   "execution_count": 1,
   "metadata": {},
   "outputs": [],
   "source": [
    "import numpy as np\n",
    "import cv2\n",
    "import sys"
   ]
  },
  {
   "cell_type": "code",
   "execution_count": 2,
   "metadata": {},
   "outputs": [],
   "source": [
    "def readImg(filename):\n",
    "    imgArray=cv2.imread(filename,0)\n",
    "    cv2.imshow('Original image',imgArray)\n",
    "    cv2.waitKey(0)\n",
    "    cv2.destroyAllWindows()  \n",
    "    \n",
    "    return compression(imgArray)\n",
    "    "
   ]
  },
  {
   "cell_type": "code",
   "execution_count": 3,
   "metadata": {},
   "outputs": [],
   "source": [
    "def trim(img):\n",
    "    \"\"\"This function makes sure that the image have an even number of pixels, else the haar-transform will not work.\n",
    "       If the rows/columns of the image is odd then cut off the last row/column and save the image.\"\"\"\n",
    "        \n",
    "    height, width = img.shape[0], img.shape[1]\n",
    "    \n",
    "    if height % 2 !=0:\n",
    "        img = img[:-1]\n",
    "        print ('Image was uneven (width-wise) and has been trimmed!')\n",
    "\n",
    "    if width %2 !=0:\n",
    "        imgT = img.transpose()\n",
    "        imgT = imgT[:-1]\n",
    "        img = imgT.transpose()\n",
    "        print ('Image was uneven (height-wise) and has been trimmed!')\n",
    "\n",
    "    print('Image size is {}x{}'.format(img.shape[0],img.shape[1]))\n",
    "\n",
    "    cv2.imwrite('trimmed_img.jpg', img)\n",
    "    img=cv2.imread('trimmed_img.jpg',0)\n",
    "    \n",
    "    return img, img.shape[0], img.shape[1]\n",
    "    "
   ]
  },
  {
   "cell_type": "code",
   "execution_count": 5,
   "metadata": {},
   "outputs": [],
   "source": [
    "def haar(sz):\n",
    "    \"\"\"This function creates the Haar-matrix.\"\"\"\n",
    "\n",
    "    out = np.zeros((sz, sz))\n",
    "\n",
    "    j=0\n",
    "    for i in range(int(sz/2)):\n",
    "       \n",
    "        out[i,j]=np.sqrt(2)/2\n",
    "        out[i,j+1]=np.sqrt(2)/2\n",
    "        j+=2\n",
    "    \n",
    "    j=0\n",
    "    for i in range(int(sz/2), sz):\n",
    "       \n",
    "        out[i,j]=-np.sqrt(2)/2\n",
    "        out[i,j+1]=np.sqrt(2)/2\n",
    "        j+=2\n",
    "\n",
    "    return out"
   ]
  },
  {
   "cell_type": "markdown",
   "metadata": {},
   "source": [
    "If you want to see how the haar-matrix looks like, write size n of the matrix (nxn) you want."
   ]
  },
  {
   "cell_type": "code",
   "execution_count": 6,
   "metadata": {},
   "outputs": [],
   "source": [
    "#haar(10)"
   ]
  },
  {
   "cell_type": "code",
   "execution_count": 7,
   "metadata": {},
   "outputs": [],
   "source": [
    "def compression(imgArray):\n",
    "    \"\"\"This function trims and compresses an image using dot-products and the Haar-matrix\"\"\"\n",
    "    img, m_size, n_size = trim(imgArray)\n",
    "    w_m=haar(m_size)\n",
    "    w_t=haar(n_size).T\n",
    "\n",
    "    \"\"\"Here is the first dotproduct\"\"\"    \n",
    "    comp1=np.dot(w_m,img)\n",
    "    cv2.imwrite('first_dotproduct.jpg', comp1) \n",
    "    comp1 = comp1.astype(np.uint8)       #change dtype to uint8 from float 64\n",
    "    comp1=cv2.imread('first_dotproduct.jpg',0)\n",
    "    cv2.imshow('first_dotproduct.jpg',comp1)\n",
    "    cv2.waitKey(0)\n",
    "    cv2.destroyAllWindows() \n",
    "    \n",
    "    \n",
    "    \"\"\"Here is the second dotproduct\"\"\"\n",
    "    comp2=np.dot(img,w_t)\n",
    "    cv2.imwrite('second_dotproduct.jpg', comp2) \n",
    "    comp2 = comp2.astype(np.uint8)       #change dtype to uint8 from float 64\n",
    "    comp1=cv2.imread('second_dotproduct.jpg',0)\n",
    "    cv2.imshow('second_dotproduct.jpg',comp2)\n",
    "    cv2.waitKey(0)\n",
    "    cv2.destroyAllWindows()\n",
    "    \n",
    "    \n",
    "    \"\"\"Finally both dotproducts together\"\"\"\n",
    "    comp=np.dot(np.dot(w_m,img),w_t)\n",
    "    cv2.imwrite('both_dotproducts.jpg', comp) \n",
    "    comp = comp.astype(np.uint8)       #change dtype to uint8 from float 64\n",
    "    comp=cv2.imread('both_dotproducts.jpg',0)\n",
    "    cv2.imshow('both_dotproducts.jpg',comp)\n",
    "    cv2.waitKey(0)\n",
    "    cv2.destroyAllWindows()  \n",
    "    \n",
    "    return comp   "
   ]
  },
  {
   "cell_type": "code",
   "execution_count": 9,
   "metadata": {},
   "outputs": [],
   "source": [
    "def topLeft(comp_img):\n",
    "    \"\"\"This function cuts the top-left fourth of the image\"\"\"\n",
    "    imgz = np.shape(comp_img)\n",
    "    print(imgz)\n",
    "    img = np.array(comp_img[0:imgz[0]//2, 0:imgz[1]//2])\n",
    "    print(img.shape)\n",
    "    cv2.imwrite('top_left.jpg', img)       \n",
    "    \n",
    "    img = img.astype(np.uint8) #change dtype to uint8 from float 64\n",
    "    img=cv2.imread('top_left.jpg',0)\n",
    "    cv2.imshow('top_left.jpg',img)\n",
    "    cv2.waitKey(0)\n",
    "    cv2.destroyAllWindows()  \n",
    "    \n",
    "    return img"
   ]
  },
  {
   "cell_type": "code",
   "execution_count": 11,
   "metadata": {},
   "outputs": [],
   "source": [
    "def multiComp(filename, times):\n",
    "    \"\"\"This function compresses a image as many times as the you tell it to.\"\"\"\n",
    "    #TODO: add exceptio for when size is to small\n",
    "    compd = readImg(filename)\n",
    "    \n",
    "    if times == 1:\n",
    "        return topLeft(compd)\n",
    "    else:\n",
    "        while times > 1:\n",
    "            compd = topLeft(compd)\n",
    "            compd = compression(compd)\n",
    "            times -= 1\n",
    "        \n",
    "    return topLeft(compd)"
   ]
  },
  {
   "cell_type": "code",
   "execution_count": 13,
   "metadata": {
    "scrolled": true
   },
   "outputs": [
    {
     "name": "stdout",
     "output_type": "stream",
     "text": [
      "Image size is 600x478\n",
      "(600, 478)\n",
      "(300, 239)\n",
      "Image was uneven (height-wise) and has been trimmed!\n",
      "Image size is 300x238\n",
      "(300, 238)\n",
      "(150, 119)\n",
      "Image was uneven (height-wise) and has been trimmed!\n",
      "Image size is 150x118\n",
      "(150, 118)\n",
      "(75, 59)\n"
     ]
    },
    {
     "data": {
      "text/plain": [
       "array([[255, 255, 255, ..., 255, 255, 255],\n",
       "       [255, 255, 255, ..., 255, 255, 255],\n",
       "       [255, 255, 255, ..., 255, 255, 255],\n",
       "       ...,\n",
       "       [255, 255, 255, ..., 255, 254, 253],\n",
       "       [255, 255, 255, ..., 255, 255, 254],\n",
       "       [255, 255, 255, ..., 253, 254, 255]], dtype=uint8)"
      ]
     },
     "execution_count": 13,
     "metadata": {},
     "output_type": "execute_result"
    }
   ],
   "source": [
    "multiComp('kvinna.jpg', 3)"
   ]
  },
  {
   "cell_type": "code",
   "execution_count": null,
   "metadata": {},
   "outputs": [],
   "source": []
  }
 ],
 "metadata": {
  "kernelspec": {
   "display_name": "Python 3",
   "language": "python",
   "name": "python3"
  },
  "language_info": {
   "codemirror_mode": {
    "name": "ipython",
    "version": 3
   },
   "file_extension": ".py",
   "mimetype": "text/x-python",
   "name": "python",
   "nbconvert_exporter": "python",
   "pygments_lexer": "ipython3",
   "version": "3.7.7"
  }
 },
 "nbformat": 4,
 "nbformat_minor": 4
}
